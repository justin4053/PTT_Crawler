{
 "cells": [
  {
   "cell_type": "code",
   "execution_count": 1,
   "metadata": {},
   "outputs": [],
   "source": [
    "import re\n",
    "# Import Dependencies\n",
    "%matplotlib inline\n",
    "\n",
    "# Visualization \n",
    "import matplotlib as mpl\n",
    "import matplotlib.pyplot as plt\n",
    "import seaborn as sns\n",
    "plt.style.use('seaborn-whitegrid')\n",
    "\n",
    "#WordCloud\n",
    "from wordcloud import WordCloud\n",
    "\n",
    "#BS\n",
    "import requests\n",
    "from bs4 import BeautifulSoup\n",
    "\n",
    "# Start Python Imports\n",
    "import math, time, random, datetime\n",
    "\n",
    "# Data Manipulation\n",
    "import numpy as np\n",
    "import pandas as pd\n",
    "\n",
    "# Preprocessing\n",
    "from sklearn.preprocessing import OneHotEncoder, LabelEncoder, label_binarize\n",
    "\n",
    "# Let's be rebels and ignore warnings for now\n",
    "import warnings\n",
    "warnings.filterwarnings('ignore')"
   ]
  },
  {
   "cell_type": "code",
   "execution_count": 78,
   "metadata": {},
   "outputs": [],
   "source": [
    "#爬蟲 - 把PTT的標題爬下來\n",
    "s=[]\n",
    "for i in range(2500,2643):\n",
    "    page = str(i)\n",
    "    #url = 'https://www.ptt.cc/bbs/facelift/index'+page+'.html'\n",
    "    url = 'https://www.ptt.cc/bbs/NTU/index'+page+'.html'\n",
    "    r = requests.get(url)\n",
    "    soup = BeautifulSoup(r.text, \"html5lib\")\n",
    "    for d in soup.find_all(attrs={'class':\"title\"}):\n",
    "        s.append(d.text.replace('\\t', '').replace('\\n', ''))\n",
    "#正則表達式 - 把創業相關的字(右邊兩個字)挑選出來\n",
    "#x = []\n",
    "#regex = '.+'\n",
    "#pattern = re.compile(regex)\n",
    "#for i in s:   \n",
    "#    result = re.search(pattern, i)\n",
    "#    if result == None: \n",
    "#        pass\n",
    "#    else:\n",
    "#        x.append(result.group()[4:])"
   ]
  },
  {
   "cell_type": "code",
   "execution_count": null,
   "metadata": {},
   "outputs": [],
   "source": []
  },
  {
   "cell_type": "code",
   "execution_count": null,
   "metadata": {},
   "outputs": [],
   "source": []
  },
  {
   "cell_type": "code",
   "execution_count": null,
   "metadata": {},
   "outputs": [],
   "source": []
  },
  {
   "cell_type": "code",
   "execution_count": null,
   "metadata": {},
   "outputs": [],
   "source": []
  },
  {
   "cell_type": "code",
   "execution_count": 81,
   "metadata": {},
   "outputs": [],
   "source": [
    "country = ['俄羅斯',\n",
    " '澳門',\n",
    " '日本',\n",
    " '北海道',\n",
    " '東京',\n",
    " '大阪',\n",
    " '韓國',\n",
    " '首爾',\n",
    " '釜山',\n",
    " '美國',\n",
    " '英國',\n",
    " '瑞典',\n",
    " '義大利',\n",
    " '西班牙',\n",
    " '泰國',\n",
    " '越南曼谷',\n",
    " '新加坡',\n",
    " '香港',\n",
    " '澳洲',\n",
    " '挪威',\n",
    " '土耳其',\n",
    " '法國',\n",
    " '大陸',\n",
    " '威尼斯',\n",
    " '德國',\n",
    " '匈牙利',\n",
    " '捷克',\n",
    " '紐西蘭',\n",
    " '芬蘭',\n",
    " '冰島',\n",
    " '波蘭',\n",
    " '布拉格',\n",
    " '汶萊',\n",
    " '蒙古',\n",
    " '葡萄牙',\n",
    " '巴西',\n",
    " '比利時',\n",
    " '盧森堡',\n",
    " '瑞典',\n",
    " '愛爾蘭',\n",
    " '墨西哥']"
   ]
  },
  {
   "cell_type": "code",
   "execution_count": 84,
   "metadata": {},
   "outputs": [],
   "source": [
    "a = ''\n",
    "b = []\n",
    "\n",
    "#建立文本\n",
    "\n",
    "for i in country:\n",
    "    a = a + '|' + i\n",
    "a = a[1:]\n",
    "\n",
    "regex = a\n",
    "pattern = re.compile(regex)\n",
    "for i in s:\n",
    "    result = re.search(pattern, i)\n",
    "    if result != None:\n",
    "        b.append(result.group())"
   ]
  },
  {
   "cell_type": "code",
   "execution_count": 86,
   "metadata": {},
   "outputs": [
    {
     "data": {
      "text/plain": [
       "<wordcloud.wordcloud.WordCloud at 0x29b709dce08>"
      ]
     },
     "execution_count": 86,
     "metadata": {},
     "output_type": "execute_result"
    }
   ],
   "source": [
    "#把在x裡的所有的詞統整在同一個字串\n",
    "c = '日本'\n",
    "for i in b:\n",
    "    #if i != '創業那些' and i != '創業的可':\n",
    "    c = c+' '+str(i)\n",
    "#製成詞雲\n",
    "w = WordCloud(width=1000,height=700,background_color='white',font_path='msyh.ttc')\n",
    "w.generate(c)\n",
    "#輸出\n",
    "w.to_file('output.png')"
   ]
  },
  {
   "cell_type": "code",
   "execution_count": 87,
   "metadata": {},
   "outputs": [
    {
     "data": {
      "text/plain": [
       "2891"
      ]
     },
     "execution_count": 87,
     "metadata": {},
     "output_type": "execute_result"
    }
   ],
   "source": [
    "len(b)"
   ]
  },
  {
   "cell_type": "code",
   "execution_count": null,
   "metadata": {},
   "outputs": [],
   "source": []
  }
 ],
 "metadata": {
  "kernelspec": {
   "display_name": "Python 3",
   "language": "python",
   "name": "python3"
  },
  "language_info": {
   "codemirror_mode": {
    "name": "ipython",
    "version": 3
   },
   "file_extension": ".py",
   "mimetype": "text/x-python",
   "name": "python",
   "nbconvert_exporter": "python",
   "pygments_lexer": "ipython3",
   "version": "3.7.4"
  }
 },
 "nbformat": 4,
 "nbformat_minor": 2
}
