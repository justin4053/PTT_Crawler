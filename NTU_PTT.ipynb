{
 "cells": [
  {
   "cell_type": "code",
   "execution_count": 78,
   "metadata": {},
   "outputs": [],
   "source": [
    "import re\n",
    "# Import Dependencies\n",
    "%matplotlib inline\n",
    "\n",
    "# Visualization \n",
    "import matplotlib as mpl\n",
    "import matplotlib.pyplot as plt\n",
    "import seaborn as sns\n",
    "plt.style.use('seaborn-whitegrid')\n",
    "\n",
    "#WordCloud\n",
    "from wordcloud import WordCloud\n",
    "\n",
    "#BS\n",
    "import requests\n",
    "from bs4 import BeautifulSoup\n",
    "\n",
    "# Start Python Imports\n",
    "import math, time, random, datetime\n",
    "\n",
    "# Data Manipulation\n",
    "import numpy as np\n",
    "import pandas as pd\n",
    "\n",
    "# Preprocessing\n",
    "from sklearn.preprocessing import OneHotEncoder, LabelEncoder, label_binarize\n",
    "\n",
    "# Let's be rebels and ignore warnings for now\n",
    "import warnings\n",
    "warnings.filterwarnings('ignore')\n",
    "\n",
    "from PIL import Image"
   ]
  },
  {
   "cell_type": "code",
   "execution_count": null,
   "metadata": {},
   "outputs": [],
   "source": [
    "#爬蟲 - 把PTT的標題爬下來\n",
    "s=[]\n",
    "for i in range(1800,2341):\n",
    "    page = str(i)\n",
    "#page = '2642'\n",
    "    #url = 'https://www.ptt.cc/bbs/NTU/index'+page+'.html'\n",
    "    url = 'https://www.ptt.cc/bbs/Loan/index'+page+'.html'\n",
    "    r = requests.get(url)\n",
    "    soup = BeautifulSoup(r.text, \"html5lib\")\n",
    "    for d in soup.find_all(attrs={'class':\"title\"}):\n",
    "        s.append(d.text.replace('\\t', '').replace('\\n', ''))"
   ]
  },
  {
   "cell_type": "code",
   "execution_count": 73,
   "metadata": {},
   "outputs": [],
   "source": [
    "#soup.find_all(attrs={'class':\"title\"})[0].find('a')['href']\n",
    "#soup.find_all(attrs={'class':\"title\"})[0]\n",
    "#ptt_url  ='https://www.ptt.cc'\n",
    "#ptt_url+soup.find_all(attrs={'class':\"title\"})[0].find('a')['href']"
   ]
  },
  {
   "cell_type": "code",
   "execution_count": null,
   "metadata": {},
   "outputs": [],
   "source": []
  },
  {
   "cell_type": "code",
   "execution_count": null,
   "metadata": {},
   "outputs": [],
   "source": []
  },
  {
   "cell_type": "code",
   "execution_count": null,
   "metadata": {},
   "outputs": [],
   "source": []
  },
  {
   "cell_type": "code",
   "execution_count": null,
   "metadata": {},
   "outputs": [],
   "source": []
  },
  {
   "cell_type": "code",
   "execution_count": 74,
   "metadata": {},
   "outputs": [],
   "source": [
    "#正則表達式 - 把創業相關的字(右邊兩個字)挑選出來\n",
    "x = []\n",
    "regex = '.+'\n",
    "pattern = re.compile(regex)\n",
    "for i in s:   \n",
    "    result = re.search(pattern, i)\n",
    "    if result == None: \n",
    "        pass\n",
    "    else:\n",
    "        x.append(result.group()[4:])"
   ]
  },
  {
   "cell_type": "code",
   "execution_count": 83,
   "metadata": {},
   "outputs": [],
   "source": [
    "for n,item in enumerate(x):\n",
    "    if '問題' in item or '新聞' in item or '公告' in item or '校園' in item or '爆掛' in item or '心情' in item:\n",
    "            x[n] = x[n][4:]\n",
    "    elif  \"水桶\" in item or \"誠徵\" in item or '心理'in item:\n",
    "            x[n] = ''"
   ]
  },
  {
   "cell_type": "code",
   "execution_count": 84,
   "metadata": {},
   "outputs": [
    {
     "data": {
      "text/plain": [
       "<wordcloud.wordcloud.WordCloud at 0x1b37eebd888>"
      ]
     },
     "execution_count": 84,
     "metadata": {},
     "output_type": "execute_result"
    }
   ],
   "source": [
    "#把在x裡的所有的詞統整在同一個字串\n",
    "c = '台大'\n",
    "for i in x:\n",
    "    c = c+' '+str(i)\n",
    "#製成詞雲\n",
    "w = WordCloud(width=1000,height=700,background_color='black',font_path='msyh.ttc')\n",
    "w.generate(c)\n",
    "#輸出\n",
    "w.to_file('output.png')"
   ]
  },
  {
   "cell_type": "code",
   "execution_count": null,
   "metadata": {},
   "outputs": [],
   "source": []
  },
  {
   "cell_type": "code",
   "execution_count": null,
   "metadata": {},
   "outputs": [],
   "source": []
  }
 ],
 "metadata": {
  "kernelspec": {
   "display_name": "Python 3",
   "language": "python",
   "name": "python3"
  },
  "language_info": {
   "codemirror_mode": {
    "name": "ipython",
    "version": 3
   },
   "file_extension": ".py",
   "mimetype": "text/x-python",
   "name": "python",
   "nbconvert_exporter": "python",
   "pygments_lexer": "ipython3",
   "version": "3.7.4"
  }
 },
 "nbformat": 4,
 "nbformat_minor": 2
}
